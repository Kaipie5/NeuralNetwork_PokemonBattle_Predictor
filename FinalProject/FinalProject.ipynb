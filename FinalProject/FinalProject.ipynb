{
 "cells": [
  {
   "cell_type": "code",
   "execution_count": 275,
   "metadata": {},
   "outputs": [],
   "source": [
    "#What am I trying to do?\n",
    "#success = win battle\n",
    "#1. Explore data to look for possible correlations x\n",
    "# - Stats to success x\n",
    "# - Type to success  x\n",
    "# - Generation to success x\n",
    "# - Legendary to success x\n",
    "#2. Create model to predict success\n",
    "# - I want to take a pokemon's features and use them to predict battles against other pokemon \n",
    "# - How do I combine the pokemon's features and the test data into one usable piece?\n",
    "#3. LAST TODOS:\n",
    "# - Randomize data x\n",
    "# - Split into train and test to measure x\n",
    "# - Experiment with number of hidden layer and broadening existing hidden x\n",
    "# - Normalize values (divide by maximum value of feature) x\n",
    "# - Seperate data such that pokemon in training set arent in test set\n",
    "import numpy as np # linear algebra\n",
    "import pandas as pd \n",
    "import matplotlib.pyplot as plt\n",
    "\n",
    "data = pd.read_csv('../FinalProject/pokemon-challenge/pokemon.csv')"
   ]
  },
  {
   "cell_type": "code",
   "execution_count": 276,
   "metadata": {},
   "outputs": [
    {
     "data": {
      "text/html": [
       "<div>\n",
       "<style scoped>\n",
       "    .dataframe tbody tr th:only-of-type {\n",
       "        vertical-align: middle;\n",
       "    }\n",
       "\n",
       "    .dataframe tbody tr th {\n",
       "        vertical-align: top;\n",
       "    }\n",
       "\n",
       "    .dataframe thead th {\n",
       "        text-align: right;\n",
       "    }\n",
       "</style>\n",
       "<table border=\"1\" class=\"dataframe\">\n",
       "  <thead>\n",
       "    <tr style=\"text-align: right;\">\n",
       "      <th></th>\n",
       "      <th>#</th>\n",
       "      <th>Name</th>\n",
       "      <th>Type 1</th>\n",
       "      <th>Type 2</th>\n",
       "      <th>HP</th>\n",
       "      <th>Attack</th>\n",
       "      <th>Defense</th>\n",
       "      <th>Sp. Atk</th>\n",
       "      <th>Sp. Def</th>\n",
       "      <th>Speed</th>\n",
       "      <th>Generation</th>\n",
       "      <th>Legendary</th>\n",
       "    </tr>\n",
       "  </thead>\n",
       "  <tbody>\n",
       "    <tr>\n",
       "      <th>0</th>\n",
       "      <td>1</td>\n",
       "      <td>Bulbasaur</td>\n",
       "      <td>Grass</td>\n",
       "      <td>Poison</td>\n",
       "      <td>45</td>\n",
       "      <td>49</td>\n",
       "      <td>49</td>\n",
       "      <td>65</td>\n",
       "      <td>65</td>\n",
       "      <td>45</td>\n",
       "      <td>1</td>\n",
       "      <td>False</td>\n",
       "    </tr>\n",
       "    <tr>\n",
       "      <th>1</th>\n",
       "      <td>2</td>\n",
       "      <td>Ivysaur</td>\n",
       "      <td>Grass</td>\n",
       "      <td>Poison</td>\n",
       "      <td>60</td>\n",
       "      <td>62</td>\n",
       "      <td>63</td>\n",
       "      <td>80</td>\n",
       "      <td>80</td>\n",
       "      <td>60</td>\n",
       "      <td>1</td>\n",
       "      <td>False</td>\n",
       "    </tr>\n",
       "    <tr>\n",
       "      <th>2</th>\n",
       "      <td>3</td>\n",
       "      <td>Venusaur</td>\n",
       "      <td>Grass</td>\n",
       "      <td>Poison</td>\n",
       "      <td>80</td>\n",
       "      <td>82</td>\n",
       "      <td>83</td>\n",
       "      <td>100</td>\n",
       "      <td>100</td>\n",
       "      <td>80</td>\n",
       "      <td>1</td>\n",
       "      <td>False</td>\n",
       "    </tr>\n",
       "    <tr>\n",
       "      <th>3</th>\n",
       "      <td>4</td>\n",
       "      <td>Mega Venusaur</td>\n",
       "      <td>Grass</td>\n",
       "      <td>Poison</td>\n",
       "      <td>80</td>\n",
       "      <td>100</td>\n",
       "      <td>123</td>\n",
       "      <td>122</td>\n",
       "      <td>120</td>\n",
       "      <td>80</td>\n",
       "      <td>1</td>\n",
       "      <td>False</td>\n",
       "    </tr>\n",
       "    <tr>\n",
       "      <th>4</th>\n",
       "      <td>5</td>\n",
       "      <td>Charmander</td>\n",
       "      <td>Fire</td>\n",
       "      <td>NaN</td>\n",
       "      <td>39</td>\n",
       "      <td>52</td>\n",
       "      <td>43</td>\n",
       "      <td>60</td>\n",
       "      <td>50</td>\n",
       "      <td>65</td>\n",
       "      <td>1</td>\n",
       "      <td>False</td>\n",
       "    </tr>\n",
       "    <tr>\n",
       "      <th>5</th>\n",
       "      <td>6</td>\n",
       "      <td>Charmeleon</td>\n",
       "      <td>Fire</td>\n",
       "      <td>NaN</td>\n",
       "      <td>58</td>\n",
       "      <td>64</td>\n",
       "      <td>58</td>\n",
       "      <td>80</td>\n",
       "      <td>65</td>\n",
       "      <td>80</td>\n",
       "      <td>1</td>\n",
       "      <td>False</td>\n",
       "    </tr>\n",
       "    <tr>\n",
       "      <th>6</th>\n",
       "      <td>7</td>\n",
       "      <td>Charizard</td>\n",
       "      <td>Fire</td>\n",
       "      <td>Flying</td>\n",
       "      <td>78</td>\n",
       "      <td>84</td>\n",
       "      <td>78</td>\n",
       "      <td>109</td>\n",
       "      <td>85</td>\n",
       "      <td>100</td>\n",
       "      <td>1</td>\n",
       "      <td>False</td>\n",
       "    </tr>\n",
       "    <tr>\n",
       "      <th>7</th>\n",
       "      <td>8</td>\n",
       "      <td>Mega Charizard X</td>\n",
       "      <td>Fire</td>\n",
       "      <td>Dragon</td>\n",
       "      <td>78</td>\n",
       "      <td>130</td>\n",
       "      <td>111</td>\n",
       "      <td>130</td>\n",
       "      <td>85</td>\n",
       "      <td>100</td>\n",
       "      <td>1</td>\n",
       "      <td>False</td>\n",
       "    </tr>\n",
       "    <tr>\n",
       "      <th>8</th>\n",
       "      <td>9</td>\n",
       "      <td>Mega Charizard Y</td>\n",
       "      <td>Fire</td>\n",
       "      <td>Flying</td>\n",
       "      <td>78</td>\n",
       "      <td>104</td>\n",
       "      <td>78</td>\n",
       "      <td>159</td>\n",
       "      <td>115</td>\n",
       "      <td>100</td>\n",
       "      <td>1</td>\n",
       "      <td>False</td>\n",
       "    </tr>\n",
       "    <tr>\n",
       "      <th>9</th>\n",
       "      <td>10</td>\n",
       "      <td>Squirtle</td>\n",
       "      <td>Water</td>\n",
       "      <td>NaN</td>\n",
       "      <td>44</td>\n",
       "      <td>48</td>\n",
       "      <td>65</td>\n",
       "      <td>50</td>\n",
       "      <td>64</td>\n",
       "      <td>43</td>\n",
       "      <td>1</td>\n",
       "      <td>False</td>\n",
       "    </tr>\n",
       "  </tbody>\n",
       "</table>\n",
       "</div>"
      ],
      "text/plain": [
       "    #              Name Type 1  Type 2  HP  Attack  Defense  Sp. Atk  Sp. Def  \\\n",
       "0   1         Bulbasaur  Grass  Poison  45      49       49       65       65   \n",
       "1   2           Ivysaur  Grass  Poison  60      62       63       80       80   \n",
       "2   3          Venusaur  Grass  Poison  80      82       83      100      100   \n",
       "3   4     Mega Venusaur  Grass  Poison  80     100      123      122      120   \n",
       "4   5        Charmander   Fire     NaN  39      52       43       60       50   \n",
       "5   6        Charmeleon   Fire     NaN  58      64       58       80       65   \n",
       "6   7         Charizard   Fire  Flying  78      84       78      109       85   \n",
       "7   8  Mega Charizard X   Fire  Dragon  78     130      111      130       85   \n",
       "8   9  Mega Charizard Y   Fire  Flying  78     104       78      159      115   \n",
       "9  10          Squirtle  Water     NaN  44      48       65       50       64   \n",
       "\n",
       "   Speed  Generation  Legendary  \n",
       "0     45           1      False  \n",
       "1     60           1      False  \n",
       "2     80           1      False  \n",
       "3     80           1      False  \n",
       "4     65           1      False  \n",
       "5     80           1      False  \n",
       "6    100           1      False  \n",
       "7    100           1      False  \n",
       "8    100           1      False  \n",
       "9     43           1      False  "
      ]
     },
     "execution_count": 276,
     "metadata": {},
     "output_type": "execute_result"
    }
   ],
   "source": [
    "data.head(10)"
   ]
  },
  {
   "cell_type": "code",
   "execution_count": 277,
   "metadata": {},
   "outputs": [
    {
     "data": {
      "text/html": [
       "<div>\n",
       "<style scoped>\n",
       "    .dataframe tbody tr th:only-of-type {\n",
       "        vertical-align: middle;\n",
       "    }\n",
       "\n",
       "    .dataframe tbody tr th {\n",
       "        vertical-align: top;\n",
       "    }\n",
       "\n",
       "    .dataframe thead th {\n",
       "        text-align: right;\n",
       "    }\n",
       "</style>\n",
       "<table border=\"1\" class=\"dataframe\">\n",
       "  <thead>\n",
       "    <tr style=\"text-align: right;\">\n",
       "      <th></th>\n",
       "      <th>#</th>\n",
       "      <th>Name</th>\n",
       "      <th>Type 1</th>\n",
       "      <th>Type 2</th>\n",
       "      <th>HP</th>\n",
       "      <th>Attack</th>\n",
       "      <th>Defense</th>\n",
       "      <th>Sp. Atk</th>\n",
       "      <th>Sp. Def</th>\n",
       "      <th>Speed</th>\n",
       "      <th>Generation</th>\n",
       "      <th>Legendary</th>\n",
       "    </tr>\n",
       "  </thead>\n",
       "  <tbody>\n",
       "    <tr>\n",
       "      <th>795</th>\n",
       "      <td>796</td>\n",
       "      <td>Diancie</td>\n",
       "      <td>Rock</td>\n",
       "      <td>Fairy</td>\n",
       "      <td>50</td>\n",
       "      <td>100</td>\n",
       "      <td>150</td>\n",
       "      <td>100</td>\n",
       "      <td>150</td>\n",
       "      <td>50</td>\n",
       "      <td>6</td>\n",
       "      <td>True</td>\n",
       "    </tr>\n",
       "    <tr>\n",
       "      <th>796</th>\n",
       "      <td>797</td>\n",
       "      <td>Mega Diancie</td>\n",
       "      <td>Rock</td>\n",
       "      <td>Fairy</td>\n",
       "      <td>50</td>\n",
       "      <td>160</td>\n",
       "      <td>110</td>\n",
       "      <td>160</td>\n",
       "      <td>110</td>\n",
       "      <td>110</td>\n",
       "      <td>6</td>\n",
       "      <td>True</td>\n",
       "    </tr>\n",
       "    <tr>\n",
       "      <th>797</th>\n",
       "      <td>798</td>\n",
       "      <td>Hoopa Confined</td>\n",
       "      <td>Psychic</td>\n",
       "      <td>Ghost</td>\n",
       "      <td>80</td>\n",
       "      <td>110</td>\n",
       "      <td>60</td>\n",
       "      <td>150</td>\n",
       "      <td>130</td>\n",
       "      <td>70</td>\n",
       "      <td>6</td>\n",
       "      <td>True</td>\n",
       "    </tr>\n",
       "    <tr>\n",
       "      <th>798</th>\n",
       "      <td>799</td>\n",
       "      <td>Hoopa Unbound</td>\n",
       "      <td>Psychic</td>\n",
       "      <td>Dark</td>\n",
       "      <td>80</td>\n",
       "      <td>160</td>\n",
       "      <td>60</td>\n",
       "      <td>170</td>\n",
       "      <td>130</td>\n",
       "      <td>80</td>\n",
       "      <td>6</td>\n",
       "      <td>True</td>\n",
       "    </tr>\n",
       "    <tr>\n",
       "      <th>799</th>\n",
       "      <td>800</td>\n",
       "      <td>Volcanion</td>\n",
       "      <td>Fire</td>\n",
       "      <td>Water</td>\n",
       "      <td>80</td>\n",
       "      <td>110</td>\n",
       "      <td>120</td>\n",
       "      <td>130</td>\n",
       "      <td>90</td>\n",
       "      <td>70</td>\n",
       "      <td>6</td>\n",
       "      <td>True</td>\n",
       "    </tr>\n",
       "  </tbody>\n",
       "</table>\n",
       "</div>"
      ],
      "text/plain": [
       "       #            Name   Type 1 Type 2  HP  Attack  Defense  Sp. Atk  \\\n",
       "795  796         Diancie     Rock  Fairy  50     100      150      100   \n",
       "796  797    Mega Diancie     Rock  Fairy  50     160      110      160   \n",
       "797  798  Hoopa Confined  Psychic  Ghost  80     110       60      150   \n",
       "798  799   Hoopa Unbound  Psychic   Dark  80     160       60      170   \n",
       "799  800       Volcanion     Fire  Water  80     110      120      130   \n",
       "\n",
       "     Sp. Def  Speed  Generation  Legendary  \n",
       "795      150     50           6       True  \n",
       "796      110    110           6       True  \n",
       "797      130     70           6       True  \n",
       "798      130     80           6       True  \n",
       "799       90     70           6       True  "
      ]
     },
     "execution_count": 277,
     "metadata": {},
     "output_type": "execute_result"
    }
   ],
   "source": [
    "data.tail()"
   ]
  },
  {
   "cell_type": "code",
   "execution_count": 278,
   "metadata": {},
   "outputs": [
    {
     "data": {
      "text/plain": [
       "Index(['#', 'Name', 'Type 1', 'Type 2', 'HP', 'Attack', 'Defense', 'Sp. Atk',\n",
       "       'Sp. Def', 'Speed', 'Generation', 'Legendary'],\n",
       "      dtype='object')"
      ]
     },
     "execution_count": 278,
     "metadata": {},
     "output_type": "execute_result"
    }
   ],
   "source": [
    "data.columns"
   ]
  },
  {
   "cell_type": "code",
   "execution_count": 279,
   "metadata": {},
   "outputs": [
    {
     "data": {
      "image/png": "[encoded data removed]",
      "text/plain": [
       "<Figure size 432x288 with 1 Axes>"
      ]
     },
     "metadata": {
      "needs_background": "light"
     },
     "output_type": "display_data"
    }
   ],
   "source": [
    "data.Speed.plot(kind = 'hist',bins = 50)\n",
    "plt.show()"
   ]
  },
  {
   "cell_type": "code",
   "execution_count": 280,
   "metadata": {},
   "outputs": [
    {
     "data": {
      "image/png": "[encoded data removed]",
      "text/plain": [
       "<Figure size 432x288 with 1 Axes>"
      ]
     },
     "metadata": {
      "needs_background": "light"
     },
     "output_type": "display_data"
    }
   ],
   "source": [
    "data.HP.plot(kind = 'hist',bins = 50)\n",
    "plt.show()"
   ]
  },
  {
   "cell_type": "code",
   "execution_count": 281,
   "metadata": {},
   "outputs": [
    {
     "data": {
      "image/png": "[encoded data removed]",
      "text/plain": [
       "<Figure size 432x288 with 1 Axes>"
      ]
     },
     "metadata": {
      "needs_background": "light"
     },
     "output_type": "display_data"
    }
   ],
   "source": [
    "data.Attack.plot(kind = 'hist',bins = 50)\n",
    "plt.show()"
   ]
  },
  {
   "cell_type": "code",
   "execution_count": 282,
   "metadata": {},
   "outputs": [
    {
     "data": {
      "image/png": "[encoded data removed]",
      "text/plain": [
       "<Figure size 432x288 with 1 Axes>"
      ]
     },
     "metadata": {
      "needs_background": "light"
     },
     "output_type": "display_data"
    }
   ],
   "source": [
    "data.Defense.plot(kind = 'hist',bins = 50)\n",
    "plt.show()"
   ]
  },
  {
   "cell_type": "code",
   "execution_count": 327,
   "metadata": {},
   "outputs": [
    {
     "name": "stdout",
     "output_type": "stream",
     "text": [
      "50000\n"
     ]
    }
   ],
   "source": [
    "battleData = pd.read_csv('../FinalProject/pokemon-challenge/combats.csv')\n",
    "numBattles = len(battleData)\n",
    "print(numBattles)\n",
    "# print(battleData.head(10))"
   ]
  },
  {
   "cell_type": "code",
   "execution_count": 328,
   "metadata": {},
   "outputs": [
    {
     "data": {
      "text/html": [
       "<div>\n",
       "<style scoped>\n",
       "    .dataframe tbody tr th:only-of-type {\n",
       "        vertical-align: middle;\n",
       "    }\n",
       "\n",
       "    .dataframe tbody tr th {\n",
       "        vertical-align: top;\n",
       "    }\n",
       "\n",
       "    .dataframe thead th {\n",
       "        text-align: right;\n",
       "    }\n",
       "</style>\n",
       "<table border=\"1\" class=\"dataframe\">\n",
       "  <thead>\n",
       "    <tr style=\"text-align: right;\">\n",
       "      <th></th>\n",
       "      <th>First_pokemon</th>\n",
       "      <th>Second_pokemon</th>\n",
       "      <th>Winner</th>\n",
       "    </tr>\n",
       "  </thead>\n",
       "  <tbody>\n",
       "    <tr>\n",
       "      <th>0</th>\n",
       "      <td>266</td>\n",
       "      <td>298</td>\n",
       "      <td>298</td>\n",
       "    </tr>\n",
       "    <tr>\n",
       "      <th>1</th>\n",
       "      <td>702</td>\n",
       "      <td>701</td>\n",
       "      <td>701</td>\n",
       "    </tr>\n",
       "    <tr>\n",
       "      <th>2</th>\n",
       "      <td>191</td>\n",
       "      <td>668</td>\n",
       "      <td>668</td>\n",
       "    </tr>\n",
       "    <tr>\n",
       "      <th>3</th>\n",
       "      <td>237</td>\n",
       "      <td>683</td>\n",
       "      <td>683</td>\n",
       "    </tr>\n",
       "    <tr>\n",
       "      <th>4</th>\n",
       "      <td>151</td>\n",
       "      <td>231</td>\n",
       "      <td>151</td>\n",
       "    </tr>\n",
       "    <tr>\n",
       "      <th>5</th>\n",
       "      <td>657</td>\n",
       "      <td>752</td>\n",
       "      <td>657</td>\n",
       "    </tr>\n",
       "    <tr>\n",
       "      <th>6</th>\n",
       "      <td>192</td>\n",
       "      <td>134</td>\n",
       "      <td>134</td>\n",
       "    </tr>\n",
       "    <tr>\n",
       "      <th>7</th>\n",
       "      <td>73</td>\n",
       "      <td>545</td>\n",
       "      <td>545</td>\n",
       "    </tr>\n",
       "    <tr>\n",
       "      <th>8</th>\n",
       "      <td>220</td>\n",
       "      <td>763</td>\n",
       "      <td>763</td>\n",
       "    </tr>\n",
       "    <tr>\n",
       "      <th>9</th>\n",
       "      <td>302</td>\n",
       "      <td>31</td>\n",
       "      <td>31</td>\n",
       "    </tr>\n",
       "  </tbody>\n",
       "</table>\n",
       "</div>"
      ],
      "text/plain": [
       "   First_pokemon  Second_pokemon  Winner\n",
       "0            266             298     298\n",
       "1            702             701     701\n",
       "2            191             668     668\n",
       "3            237             683     683\n",
       "4            151             231     151\n",
       "5            657             752     657\n",
       "6            192             134     134\n",
       "7             73             545     545\n",
       "8            220             763     763\n",
       "9            302              31      31"
      ]
     },
     "execution_count": 328,
     "metadata": {},
     "output_type": "execute_result"
    }
   ],
   "source": [
    "battleData.head(10)"
   ]
  },
  {
   "cell_type": "code",
   "execution_count": 284,
   "metadata": {},
   "outputs": [
    {
     "name": "stdout",
     "output_type": "stream",
     "text": [
      "No battle Pokemon: 12\n",
      "No battle Pokemon: 33\n",
      "No battle Pokemon: 46\n",
      "No battle Pokemon: 66\n",
      "No battle Pokemon: 78\n",
      "No battle Pokemon: 90\n",
      "No battle Pokemon: 144\n",
      "No battle Pokemon: 183\n",
      "No battle Pokemon: 236\n",
      "No battle Pokemon: 322\n",
      "No battle Pokemon: 419\n",
      "No battle Pokemon: 479\n",
      "No battle Pokemon: 556\n",
      "No battle Pokemon: 618\n",
      "No battle Pokemon: 655\n",
      "No battle Pokemon: 782\n",
      "    #              Name Type 1  Type 2  HP  Attack  Defense  Sp. Atk  Sp. Def  \\\n",
      "0   1         Bulbasaur  Grass  Poison  45      49       49       65       65   \n",
      "1   2           Ivysaur  Grass  Poison  60      62       63       80       80   \n",
      "2   3          Venusaur  Grass  Poison  80      82       83      100      100   \n",
      "3   4     Mega Venusaur  Grass  Poison  80     100      123      122      120   \n",
      "4   5        Charmander   Fire     NaN  39      52       43       60       50   \n",
      "5   6        Charmeleon   Fire     NaN  58      64       58       80       65   \n",
      "6   7         Charizard   Fire  Flying  78      84       78      109       85   \n",
      "7   8  Mega Charizard X   Fire  Dragon  78     130      111      130       85   \n",
      "8   9  Mega Charizard Y   Fire  Flying  78     104       78      159      115   \n",
      "9  10          Squirtle  Water     NaN  44      48       65       50       64   \n",
      "\n",
      "   Speed  Generation  Legendary  Wins    Winrate  \n",
      "0     45           1      False    37  27.819549  \n",
      "1     60           1      False    46  38.016529  \n",
      "2     80           1      False    89  67.424242  \n",
      "3     80           1      False    70  56.000000  \n",
      "4     65           1      False    55  49.107143  \n",
      "5     80           1      False    64  54.237288  \n",
      "6    100           1      False   115  86.466165  \n",
      "7    100           1      False   119  85.611511  \n",
      "8    100           1      False   114  84.444444  \n",
      "9     43           1      False    19  16.239316  \n"
     ]
    }
   ],
   "source": [
    "#A dictionary of tuples, first value = number of wins, second value = number of battles\n",
    "pokemonDict = {}\n",
    "for pokemonNum in data['#']:\n",
    "    pokemonDict[pokemonNum] = [0, 0]\n",
    "\n",
    "#Calc number of wins\n",
    "for battle in battleData['Winner']:\n",
    "    pokemonDict[battle][0] = pokemonDict[battle][0] + 1\n",
    "    \n",
    "#Calc number of battles\n",
    "for battle in battleData['First_pokemon']:\n",
    "    pokemonDict[battle][1] = pokemonDict[battle][1] + 1\n",
    "    \n",
    "for battle in battleData['Second_pokemon']:\n",
    "    pokemonDict[battle][1] = pokemonDict[battle][1] + 1\n",
    "    \n",
    "winsArray = []\n",
    "winrateArray = []\n",
    "lossArray = []\n",
    "for pokemon in pokemonDict:\n",
    "    winsArray.append(pokemonDict[pokemon][0])\n",
    "    #Weirdly Some Pokemon don't battle\n",
    "    if(pokemonDict[pokemon][1] != 0):\n",
    "        winrateArray.append(pokemonDict[pokemon][0]/pokemonDict[pokemon][1]*100)\n",
    "    else:\n",
    "        print('No battle Pokemon:', pokemon)\n",
    "        winrateArray.append(0.0000)\n",
    "    lossArray.append(pokemonDict[pokemon][1] - pokemonDict[pokemon][0])\n",
    "columnName = \"Wins\"\n",
    "data[columnName] = winsArray\n",
    "columnName = \"Winrate\"\n",
    "data[columnName] = winrateArray\n",
    "print(data.head(10))\n",
    "columnName = \"Losses\"\n",
    "data[columnName] = lossArray"
   ]
  },
  {
   "cell_type": "code",
   "execution_count": 285,
   "metadata": {},
   "outputs": [
    {
     "name": "stdout",
     "output_type": "stream",
     "text": [
      "Water       112\n",
      "Normal       98\n",
      "Grass        70\n",
      "Bug          69\n",
      "Psychic      57\n",
      "Fire         52\n",
      "Electric     44\n",
      "Rock         44\n",
      "Dragon       32\n",
      "Ghost        32\n",
      "Ground       32\n",
      "Dark         31\n",
      "Poison       28\n",
      "Fighting     27\n",
      "Steel        27\n",
      "Ice          24\n",
      "Fairy        17\n",
      "Flying        4\n",
      "Name: Type 1, dtype: int64\n"
     ]
    }
   ],
   "source": [
    "print(data['Type 1'].value_counts(dropna =False))"
   ]
  },
  {
   "cell_type": "code",
   "execution_count": 286,
   "metadata": {},
   "outputs": [
    {
     "name": "stdout",
     "output_type": "stream",
     "text": [
      "NaN         386\n",
      "Flying       97\n",
      "Ground       35\n",
      "Poison       34\n",
      "Psychic      33\n",
      "Fighting     26\n",
      "Grass        25\n",
      "Fairy        23\n",
      "Steel        22\n",
      "Dark         20\n",
      "Dragon       18\n",
      "Rock         14\n",
      "Ghost        14\n",
      "Water        14\n",
      "Ice          14\n",
      "Fire         12\n",
      "Electric      6\n",
      "Normal        4\n",
      "Bug           3\n",
      "Name: Type 2, dtype: int64\n"
     ]
    }
   ],
   "source": [
    "print(data['Type 2'].value_counts(dropna =False))"
   ]
  },
  {
   "cell_type": "code",
   "execution_count": 287,
   "metadata": {},
   "outputs": [
    {
     "data": {
      "text/plain": [
       "array(['Grass', 'Fire', 'Water', 'Bug', 'Normal', 'Poison', 'Electric',\n",
       "       'Ground', 'Fairy', 'Fighting', 'Psychic', 'Rock', 'Ghost', 'Ice',\n",
       "       'Dragon', 'Dark', 'Steel', 'Flying'], dtype=object)"
      ]
     },
     "execution_count": 287,
     "metadata": {},
     "output_type": "execute_result"
    }
   ],
   "source": [
    "data[\"Type 1\"].unique()"
   ]
  },
  {
   "cell_type": "code",
   "execution_count": 288,
   "metadata": {},
   "outputs": [
    {
     "name": "stdout",
     "output_type": "stream",
     "text": [
      "numDragon Pokemon: 32\n",
      "       #            Name  Type 1   Type 2  HP  Attack  Defense  Sp. Atk  \\\n",
      "159  160         Dratini  Dragon      NaN  41      64       45       50   \n",
      "160  161       Dragonair  Dragon      NaN  61      84       65       70   \n",
      "161  162       Dragonite  Dragon   Flying  91     134       95      100   \n",
      "365  366         Altaria  Dragon   Flying  75      70       90       70   \n",
      "366  367    Mega Altaria  Dragon    Fairy  75     110      110      110   \n",
      "406  407           Bagon  Dragon      NaN  45      75       60       40   \n",
      "407  408         Shelgon  Dragon      NaN  65      95      100       60   \n",
      "408  409       Salamence  Dragon   Flying  95     135       80      110   \n",
      "409  410  Mega Salamence  Dragon   Flying  95     145      130      120   \n",
      "417  418          Latias  Dragon  Psychic  80      80       90      110   \n",
      "\n",
      "     Sp. Def  Speed  Generation  Legendary  Wins    Winrate  Losses  \n",
      "159       50     50           1      False    43  36.752137      74  \n",
      "160       70     70           1      False    58  50.000000      58  \n",
      "161      100     80           1      False    87  63.043478      51  \n",
      "365      105     80           3      False    82  65.600000      43  \n",
      "366      105     80           3      False    90  65.693431      47  \n",
      "406       30     50           3      False    38  30.400000      87  \n",
      "407       50     50           3      False    43  34.959350      80  \n",
      "408       80    100           3      False   113  82.481752      24  \n",
      "409       90    120           3      False   125  93.984962       8  \n",
      "417      130    110           3       True   116  87.218045      17  \n"
     ]
    }
   ],
   "source": [
    "data[\"Type 1\"] == \"Grass\"\n",
    "grassPokemon = data[data[\"Type 1\"] == \"Grass\"]\n",
    "data[\"Type 1\"] == \"Fire\"\n",
    "firePokemon = data[data[\"Type 1\"] == \"Fire\"]\n",
    "data[\"Type 1\"] == \"Water\"\n",
    "waterPokemon = data[data[\"Type 1\"] == \"Water\"]\n",
    "data[\"Type 1\"] == \"Bug\"\n",
    "bugPokemon = data[data[\"Type 1\"] == \"Bug\"]\n",
    "data[\"Type 1\"] == \"Normal\"\n",
    "normalPokemon = data[data[\"Type 1\"] == \"Normal\"]\n",
    "data[\"Type 1\"] == \"Poison\"\n",
    "poisonPokemon = data[data[\"Type 1\"] == \"Poison\"]\n",
    "data[\"Type 1\"] == \"Electric\"\n",
    "electricPokemon = data[data[\"Type 1\"] == \"Electric\"]\n",
    "data[\"Type 1\"] == \"Ground\"\n",
    "groundPokemon = data[data[\"Type 1\"] == \"Ground\"]\n",
    "data[\"Type 1\"] == \"Fairy\"\n",
    "fairyPokemon = data[data[\"Type 1\"] == \"Fairy\"]\n",
    "data[\"Type 1\"] == \"Fighting\"\n",
    "fightingPokemon = data[data[\"Type 1\"] == \"Fighting\"]\n",
    "data[\"Type 1\"] == \"Psychic\"\n",
    "psychicPokemon = data[data[\"Type 1\"] == \"Psychic\"]\n",
    "data[\"Type 1\"] == \"Rock\"\n",
    "rockPokemon = data[data[\"Type 1\"] == \"Rock\"]\n",
    "data[\"Type 1\"] == \"Ghost\"\n",
    "ghostPokemon = data[data[\"Type 1\"] == \"Ghost\"]\n",
    "data[\"Type 1\"] == \"Ice\"\n",
    "icePokemon = data[data[\"Type 1\"] == \"Ice\"]\n",
    "data[\"Type 1\"] == \"Dragon\"\n",
    "dragonPokemon = data[data[\"Type 1\"] == \"Dragon\"]\n",
    "data[\"Type 1\"] == \"Dark\"\n",
    "darkPokemon = data[data[\"Type 1\"] == \"Dark\"]\n",
    "data[\"Type 1\"] == \"Steel\"\n",
    "steelPokemon = data[data[\"Type 1\"] == \"Steel\"]\n",
    "data[\"Type 1\"] == \"Flying\"\n",
    "flyingPokemon = data[data[\"Type 1\"] == \"Flying\"]\n",
    "print(\"numDragon Pokemon:\", len(dragonPokemon))\n",
    "print(dragonPokemon.head(10))"
   ]
  },
  {
   "cell_type": "code",
   "execution_count": 289,
   "metadata": {},
   "outputs": [
    {
     "data": {
      "text/plain": [
       "<matplotlib.axes._subplots.AxesSubplot at 0x12adc6da0>"
      ]
     },
     "execution_count": 289,
     "metadata": {},
     "output_type": "execute_result"
    },
    {
     "data": {
      "image/png": "[encoded data removed]",
      "text/plain": [
       "<Figure size 432x288 with 1 Axes>"
      ]
     },
     "metadata": {
      "needs_background": "light"
     },
     "output_type": "display_data"
    }
   ],
   "source": [
    "waterPokemon.Defense.plot(kind = 'hist',bins = 15)"
   ]
  },
  {
   "cell_type": "code",
   "execution_count": 290,
   "metadata": {},
   "outputs": [
    {
     "data": {
      "text/plain": [
       "<matplotlib.axes._subplots.AxesSubplot at 0x12ad74550>"
      ]
     },
     "execution_count": 290,
     "metadata": {},
     "output_type": "execute_result"
    },
    {
     "data": {
      "image/png": "[encoded data removed]",
      "text/plain": [
       "<Figure size 432x288 with 1 Axes>"
      ]
     },
     "metadata": {
      "needs_background": "light"
     },
     "output_type": "display_data"
    }
   ],
   "source": [
    "firePokemon.Defense.plot(kind = 'hist',bins = 15)"
   ]
  },
  {
   "cell_type": "code",
   "execution_count": 291,
   "metadata": {},
   "outputs": [
    {
     "data": {
      "text/plain": [
       "<matplotlib.axes._subplots.AxesSubplot at 0x12fbef2e8>"
      ]
     },
     "execution_count": 291,
     "metadata": {},
     "output_type": "execute_result"
    },
    {
     "data": {
      "image/png": "[encoded data removed]",
      "text/plain": [
       "<Figure size 432x288 with 1 Axes>"
      ]
     },
     "metadata": {
      "needs_background": "light"
     },
     "output_type": "display_data"
    }
   ],
   "source": [
    "dragonPokemon.Defense.plot(kind = 'hist',bins = 15)"
   ]
  },
  {
   "cell_type": "code",
   "execution_count": 292,
   "metadata": {},
   "outputs": [
    {
     "name": "stdout",
     "output_type": "stream",
     "text": [
      "['Grass' 'Fire' 'Water' 'Bug' 'Normal' 'Poison' 'Electric' 'Ground'\n",
      " 'Fairy' 'Fighting' 'Psychic' 'Rock' 'Ghost' 'Ice' 'Dragon' 'Dark' 'Steel'\n",
      " 'Flying']\n",
      "Winrates by Type1\n",
      "Type1:  Grass 43.994778067885115 %\n",
      "Type1:  Fire 58.02808302808303 %\n",
      "Type1:  Water 46.784417064311654 %\n",
      "Type1:  Bug 43.05936073059361 %\n",
      "Type1:  Normal 53.876673830385194 %\n",
      "Type1:  Poison 42.993979200875756 %\n",
      "Type1:  Electric 63.03778526000748 %\n",
      "Type1:  Ground 53.689894574440736 %\n",
      "Type1:  Fairy 32.86843328684333 %\n",
      "Type1:  Fighting 46.67271627344223 %\n",
      "Type1:  Psychic 54.61748633879782 %\n",
      "Type1:  Rock 40.55388957488093 %\n",
      "Type1:  Ghost 48.02968270214944 %\n",
      "Type1:  Ice 44.07275089314713 %\n",
      "Type1:  Dragon 63.326551373346895 %\n",
      "Type1:  Dark 63.64109232769831 %\n",
      "Type1:  Steel 42.949802594472644 %\n",
      "Type1:  Flying 75.73221757322176 %\n"
     ]
    }
   ],
   "source": [
    "#######ERROR with how i am calculating the weighted winrate by type###############\n",
    "def typeWinRate(pokemonArray, pokemonType):\n",
    "    print('Type1: ', pokemonType, (sum(pokemonArray['Wins']) / (sum(pokemonArray['Wins']) + sum(pokemonArray['Losses'])))*100, '%')\n",
    "print(data[\"Type 1\"].unique())\n",
    "print('Winrates by Type1')\n",
    "typeWinRate(grassPokemon, 'Grass')\n",
    "typeWinRate(firePokemon, 'Fire')\n",
    "typeWinRate(waterPokemon, 'Water')\n",
    "typeWinRate(bugPokemon, 'Bug')\n",
    "typeWinRate(normalPokemon, 'Normal')\n",
    "typeWinRate(poisonPokemon, 'Poison')\n",
    "typeWinRate(electricPokemon, 'Electric')\n",
    "typeWinRate(groundPokemon, 'Ground')\n",
    "typeWinRate(fairyPokemon, 'Fairy')\n",
    "typeWinRate(fightingPokemon, 'Fighting')\n",
    "typeWinRate(psychicPokemon, 'Psychic')\n",
    "typeWinRate(rockPokemon, 'Rock')\n",
    "typeWinRate(ghostPokemon, 'Ghost')\n",
    "typeWinRate(icePokemon, 'Ice')\n",
    "typeWinRate(dragonPokemon, 'Dragon')\n",
    "typeWinRate(darkPokemon, 'Dark')\n",
    "typeWinRate(steelPokemon, 'Steel')\n",
    "typeWinRate(flyingPokemon, 'Flying')"
   ]
  },
  {
   "cell_type": "code",
   "execution_count": 293,
   "metadata": {},
   "outputs": [],
   "source": [
    "data[\"Type 2\"] == \"Grass\"\n",
    "grassPokemon = data[data[\"Type 2\"] == \"Grass\"]\n",
    "data[\"Type 2\"] == \"Fire\"\n",
    "firePokemon = data[data[\"Type 2\"] == \"Fire\"]\n",
    "data[\"Type 2\"] == \"Water\"\n",
    "waterPokemon = data[data[\"Type 2\"] == \"Water\"]\n",
    "data[\"Type 2\"] == \"Bug\"\n",
    "bugPokemon = data[data[\"Type 2\"] == \"Bug\"]\n",
    "data[\"Type 2\"] == \"Normal\"\n",
    "normalPokemon = data[data[\"Type 2\"] == \"Normal\"]\n",
    "data[\"Type 2\"] == \"Poison\"\n",
    "poisonPokemon = data[data[\"Type 2\"] == \"Poison\"]\n",
    "data[\"Type 2\"] == \"Electric\"\n",
    "electricPokemon = data[data[\"Type 2\"] == \"Electric\"]\n",
    "data[\"Type 2\"] == \"Ground\"\n",
    "groundPokemon = data[data[\"Type 2\"] == \"Ground\"]\n",
    "data[\"Type 2\"] == \"Fairy\"\n",
    "fairyPokemon = data[data[\"Type 2\"] == \"Fairy\"]\n",
    "data[\"Type 2\"] == \"Fighting\"\n",
    "fightingPokemon = data[data[\"Type 2\"] == \"Fighting\"]\n",
    "data[\"Type 2\"] == \"Psychic\"\n",
    "psychicPokemon = data[data[\"Type 2\"] == \"Psychic\"]\n",
    "data[\"Type 2\"] == \"Rock\"\n",
    "rockPokemon = data[data[\"Type 2\"] == \"Rock\"]\n",
    "data[\"Type 2\"] == \"Ghost\"\n",
    "ghostPokemon = data[data[\"Type 2\"] == \"Ghost\"]\n",
    "data[\"Type 2\"] == \"Ice\"\n",
    "icePokemon = data[data[\"Type 2\"] == \"Ice\"]\n",
    "data[\"Type 2\"] == \"Dragon\"\n",
    "dragonPokemon = data[data[\"Type 2\"] == \"Dragon\"]\n",
    "data[\"Type 2\"] == \"Dark\"\n",
    "darkPokemon = data[data[\"Type 2\"] == \"Dark\"]\n",
    "data[\"Type 2\"] == \"Steel\"\n",
    "steelPokemon = data[data[\"Type 2\"] == \"Steel\"]\n",
    "data[\"Type 2\"] == \"Flying\"\n",
    "flyingPokemon = data[data[\"Type 2\"] == \"Flying\"]"
   ]
  },
  {
   "cell_type": "code",
   "execution_count": 294,
   "metadata": {},
   "outputs": [
    {
     "name": "stdout",
     "output_type": "stream",
     "text": [
      "['Poison' nan 'Flying' 'Dragon' 'Ground' 'Fairy' 'Grass' 'Fighting'\n",
      " 'Psychic' 'Steel' 'Ice' 'Rock' 'Dark' 'Water' 'Electric' 'Fire' 'Ghost'\n",
      " 'Bug' 'Normal']\n",
      "Winrates by Type1\n",
      "Type2:  Grass 41.49417852522639 %\n",
      "Type2:  Fire 63.80890052356021 %\n",
      "Type2:  Water 40.75699396599013 %\n",
      "Type2:  Bug 44.91315136476427 %\n",
      "Type2:  Normal 64.15094339622641 %\n",
      "Type2:  Poison 45.10627780523974 %\n",
      "Type2:  Electric 53.25153374233129 %\n",
      "Type2:  Ground 37.4 %\n",
      "Type2:  Fairy 42.92821606254442 %\n",
      "Type2:  Fighting 67.74580335731414 %\n",
      "Type2:  Psychic 51.36196319018404 %\n",
      "Type2:  Rock 28.159645232815965 %\n",
      "Type2:  Ghost 44.62759462759463 %\n",
      "Type2:  Ice 57.97842135150483 %\n",
      "Type2:  Dragon 60.37256562235393 %\n",
      "Type2:  Dark 59.5895816890292 %\n",
      "Type2:  Steel 49.943630214205186 %\n",
      "Type2:  Flying 66.42306130734876 %\n"
     ]
    }
   ],
   "source": [
    "def typeWinRate(pokemonArray, pokemonType):\n",
    "    print('Type2: ', pokemonType, (sum(pokemonArray['Wins']) / (sum(pokemonArray['Wins']) + sum(pokemonArray['Losses'])))*100, '%')\n",
    "print(data[\"Type 2\"].unique())\n",
    "print('Winrates by Type1')\n",
    "typeWinRate(grassPokemon, 'Grass')\n",
    "typeWinRate(firePokemon, 'Fire')\n",
    "typeWinRate(waterPokemon, 'Water')\n",
    "typeWinRate(bugPokemon, 'Bug')\n",
    "typeWinRate(normalPokemon, 'Normal')\n",
    "typeWinRate(poisonPokemon, 'Poison')\n",
    "typeWinRate(electricPokemon, 'Electric')\n",
    "typeWinRate(groundPokemon, 'Ground')\n",
    "typeWinRate(fairyPokemon, 'Fairy')\n",
    "typeWinRate(fightingPokemon, 'Fighting')\n",
    "typeWinRate(psychicPokemon, 'Psychic')\n",
    "typeWinRate(rockPokemon, 'Rock')\n",
    "typeWinRate(ghostPokemon, 'Ghost')\n",
    "typeWinRate(icePokemon, 'Ice')\n",
    "typeWinRate(dragonPokemon, 'Dragon')\n",
    "typeWinRate(darkPokemon, 'Dark')\n",
    "typeWinRate(steelPokemon, 'Steel')\n",
    "typeWinRate(flyingPokemon, 'Flying')"
   ]
  },
  {
   "cell_type": "code",
   "execution_count": 295,
   "metadata": {},
   "outputs": [
    {
     "data": {
      "text/plain": [
       "<matplotlib.collections.PathCollection at 0x131064b38>"
      ]
     },
     "execution_count": 295,
     "metadata": {},
     "output_type": "execute_result"
    },
    {
     "data": {
      "image/png": "[encoded data removed]",
      "text/plain": [
       "<Figure size 432x288 with 1 Axes>"
      ]
     },
     "metadata": {
      "needs_background": "light"
     },
     "output_type": "display_data"
    }
   ],
   "source": [
    "x = []\n",
    "y = []\n",
    "for pokemon in data['Attack']:\n",
    "    x.append(pokemon)\n",
    "for pokemon in data['Wins']:\n",
    "    y.append(pokemon)\n",
    "plt.scatter(x,y)"
   ]
  },
  {
   "cell_type": "code",
   "execution_count": 296,
   "metadata": {},
   "outputs": [
    {
     "data": {
      "text/plain": [
       "<matplotlib.collections.PathCollection at 0x131282780>"
      ]
     },
     "execution_count": 296,
     "metadata": {},
     "output_type": "execute_result"
    },
    {
     "data": {
      "image/png": "[encoded data removed]",
      "text/plain": [
       "<Figure size 432x288 with 1 Axes>"
      ]
     },
     "metadata": {
      "needs_background": "light"
     },
     "output_type": "display_data"
    }
   ],
   "source": [
    "x = []\n",
    "for pokemon in data['Speed']:\n",
    "    x.append(pokemon)\n",
    "plt.scatter(x,y)"
   ]
  },
  {
   "cell_type": "code",
   "execution_count": 297,
   "metadata": {},
   "outputs": [
    {
     "data": {
      "text/plain": [
       "<matplotlib.collections.PathCollection at 0x13185d630>"
      ]
     },
     "execution_count": 297,
     "metadata": {},
     "output_type": "execute_result"
    },
    {
     "data": {
      "image/png": "[encoded data removed]",
      "text/plain": [
       "<Figure size 432x288 with 1 Axes>"
      ]
     },
     "metadata": {
      "needs_background": "light"
     },
     "output_type": "display_data"
    }
   ],
   "source": [
    "x = []\n",
    "for pokemon in data['Defense']:\n",
    "    x.append(pokemon)\n",
    "plt.scatter(x,y)"
   ]
  },
  {
   "cell_type": "code",
   "execution_count": 298,
   "metadata": {},
   "outputs": [
    {
     "data": {
      "text/plain": [
       "<matplotlib.collections.PathCollection at 0x131f1f438>"
      ]
     },
     "execution_count": 298,
     "metadata": {},
     "output_type": "execute_result"
    },
    {
     "data": {
      "image/png": "[encoded data removed]",
      "text/plain": [
       "<Figure size 432x288 with 1 Axes>"
      ]
     },
     "metadata": {
      "needs_background": "light"
     },
     "output_type": "display_data"
    }
   ],
   "source": [
    "x = []\n",
    "for pokemon in data['HP']:\n",
    "    x.append(pokemon)\n",
    "plt.scatter(x,y)"
   ]
  },
  {
   "cell_type": "code",
   "execution_count": 299,
   "metadata": {},
   "outputs": [
    {
     "data": {
      "text/plain": [
       "<matplotlib.collections.PathCollection at 0x132038710>"
      ]
     },
     "execution_count": 299,
     "metadata": {},
     "output_type": "execute_result"
    },
    {
     "data": {
      "image/png": "[encoded data removed]",
      "text/plain": [
       "<Figure size 432x288 with 1 Axes>"
      ]
     },
     "metadata": {
      "needs_background": "light"
     },
     "output_type": "display_data"
    }
   ],
   "source": [
    "x = []\n",
    "for pokemon in data['Sp. Atk']:\n",
    "    x.append(pokemon)\n",
    "plt.scatter(x,y)"
   ]
  },
  {
   "cell_type": "code",
   "execution_count": 300,
   "metadata": {},
   "outputs": [
    {
     "data": {
      "text/plain": [
       "<matplotlib.collections.PathCollection at 0x132099470>"
      ]
     },
     "execution_count": 300,
     "metadata": {},
     "output_type": "execute_result"
    },
    {
     "data": {
      "image/png": "[encoded data removed]",
      "text/plain": [
       "<Figure size 432x288 with 1 Axes>"
      ]
     },
     "metadata": {
      "needs_background": "light"
     },
     "output_type": "display_data"
    }
   ],
   "source": [
    "x = []\n",
    "for pokemon in data['Sp. Def']:\n",
    "    x.append(pokemon)\n",
    "plt.scatter(x,y)"
   ]
  },
  {
   "cell_type": "code",
   "execution_count": 301,
   "metadata": {},
   "outputs": [
    {
     "name": "stdout",
     "output_type": "stream",
     "text": [
      "50000\n",
      "800\n",
      "62.5\n"
     ]
    }
   ],
   "source": [
    "print(sum(data['Wins']))\n",
    "print(len(data[\"Wins\"]))\n",
    "average = sum(data['Wins'])/len(data['Wins'])\n",
    "print(average)"
   ]
  },
  {
   "cell_type": "code",
   "execution_count": 302,
   "metadata": {},
   "outputs": [
    {
     "name": "stdout",
     "output_type": "stream",
     "text": [
      "Legendaries vs Average wins\n"
     ]
    },
    {
     "data": {
      "text/plain": [
       "[<matplotlib.lines.Line2D at 0x132115438>]"
      ]
     },
     "execution_count": 302,
     "metadata": {},
     "output_type": "execute_result"
    },
    {
     "data": {
      "image/png": "[encoded data removed]",
      "text/plain": [
       "<Figure size 432x288 with 1 Axes>"
      ]
     },
     "metadata": {
      "needs_background": "light"
     },
     "output_type": "display_data"
    }
   ],
   "source": [
    "x = []\n",
    "y = []\n",
    "for index, row in data.iterrows():\n",
    "    if(row['Legendary'] == True):\n",
    "        x.append(row['#'])\n",
    "        y.append(row['Wins'])\n",
    "print(\"Legendaries vs Average wins\")\n",
    "plt.scatter(x,y)\n",
    "lineX = [140, 850]\n",
    "avg = [average, average]\n",
    "plt.plot(lineX, avg, color='red')"
   ]
  },
  {
   "cell_type": "code",
   "execution_count": 303,
   "metadata": {},
   "outputs": [
    {
     "name": "stdout",
     "output_type": "stream",
     "text": [
      "Winrates by Generation\n",
      "gen1 21.026 %\n",
      "gen2 11.932 %\n",
      "gen3 19.416 %\n",
      "gen4 16.32 %\n",
      "gen5 21.324 %\n",
      "gen6 9.982000000000001 %\n"
     ]
    }
   ],
   "source": [
    "gen1 = data[data[\"Generation\"] == 1]\n",
    "gen2 = data[data[\"Generation\"] == 2]\n",
    "gen3 = data[data[\"Generation\"] == 3]\n",
    "gen4 = data[data[\"Generation\"] == 4]\n",
    "gen5 = data[data[\"Generation\"] == 5]\n",
    "gen6 = data[data[\"Generation\"] == 6]\n",
    "print('Winrates by Generation')\n",
    "print('gen1', (sum(gen1['Wins']) / numBattles)*100, '%')\n",
    "print('gen2', (sum(gen2['Wins']) / numBattles)*100, '%')\n",
    "print('gen3', (sum(gen3['Wins']) / numBattles)*100, '%')\n",
    "print('gen4', (sum(gen4['Wins']) / numBattles)*100, '%')\n",
    "print('gen5', (sum(gen5['Wins']) / numBattles)*100, '%')\n",
    "print('gen6', (sum(gen6['Wins']) / numBattles)*100, '%')"
   ]
  },
  {
   "cell_type": "code",
   "execution_count": 304,
   "metadata": {},
   "outputs": [
    {
     "name": "stdout",
     "output_type": "stream",
     "text": [
      "       #                      Name   Type 1    Type 2   HP  Attack  Defense  \\\n",
      "154  155           Mega Aerodactyl     Rock    Flying   80     135       85   \n",
      "512  513                   Weavile     Dark       Ice   70     120       65   \n",
      "703  704    Tornadus Therian Forme   Flying       NaN   79     100       80   \n",
      "19    20             Mega Beedrill      Bug    Poison   65     150       40   \n",
      "153  154                Aerodactyl     Rock    Flying   80     105       65   \n",
      "476  477              Mega Lopunny   Normal  Fighting   65     136       94   \n",
      "726  727                  Greninja    Water      Dark   72      95       67   \n",
      "716  717  Meloetta Pirouette Forme   Normal  Fighting  100     128       90   \n",
      "164  165             Mega Mewtwo Y  Psychic       NaN  106     150       70   \n",
      "349  350             Mega Sharpedo    Water      Dark   70     140       70   \n",
      "\n",
      "     Sp. Atk  Sp. Def  Speed  Generation  Legendary  Wins    Winrate  Losses  \n",
      "154       70       95    150           1      False   127  98.449612       2  \n",
      "512       45       85    125           4      False   116  97.478992       3  \n",
      "703      110       90    121           5       True   121  96.800000       4  \n",
      "19        15       80    145           1      False   115  96.638655       4  \n",
      "153       60       75    130           1      False   136  96.453901       5  \n",
      "476       54       96    135           4      False   124  96.124031       5  \n",
      "726      103       71    122           6      False   122  96.062992       5  \n",
      "716       77       77    128           5      False   118  95.934959       5  \n",
      "164      194      120    140           1       True   119  95.200000       6  \n",
      "349      110       65    105           3      False   114  95.000000       6  \n"
     ]
    }
   ],
   "source": [
    "sortedWinrate = data.sort_values(\"Winrate\", ascending=False)\n",
    "print(sortedWinrate.head(10))"
   ]
  },
  {
   "cell_type": "code",
   "execution_count": 305,
   "metadata": {},
   "outputs": [
    {
     "name": "stdout",
     "output_type": "stream",
     "text": [
      "   #     Name  Type 1  Type 2  HP  Attack  Defense  Sp. Atk  Sp. Def  Speed  \\\n",
      "1  2  Ivysaur       0       0  60      62       63       80       80     60   \n",
      "\n",
      "   Generation  Legendary  Wins    Winrate  Losses  \n",
      "1           1          0    46  38.016529      75  \n"
     ]
    }
   ],
   "source": [
    "# for pokeType in data['Type 1']:\n",
    "#     if (pokeType == )\n",
    "type1Array = []\n",
    "for val in data[\"Type 1\"].unique():\n",
    "    type1Array.append(val)\n",
    "type2Array = []\n",
    "for val in data[\"Type 2\"].unique():\n",
    "    type2Array.append(val)\n",
    "legendaryArray = []\n",
    "for val in data[\"Legendary\"].unique():\n",
    "    legendaryArray.append(val)\n",
    "newType1 = []\n",
    "newType2 = []\n",
    "newLegendaryArray = []\n",
    "for index, row in data.iterrows():\n",
    "    newType1.append(type1Array.index(row['Type 1']))\n",
    "    newType2.append(type2Array.index(row['Type 2']))\n",
    "    newLegendaryArray.append(legendaryArray.index(row[\"Legendary\"]))\n",
    "# print(data[\"Type 1\"].unique())\n",
    "# print(data[\"Type 2\"].unique())\n",
    "# print(newType1)\n",
    "columnName = \"Type 1\"\n",
    "data[columnName] = newType1\n",
    "columnName = \"Type 2\"\n",
    "data[columnName] = newType2\n",
    "columnName = \"Legendary\"\n",
    "data[columnName] = newLegendaryArray\n",
    "print(data.loc[[1]])"
   ]
  },
  {
   "cell_type": "code",
   "execution_count": 330,
   "metadata": {},
   "outputs": [
    {
     "name": "stdout",
     "output_type": "stream",
     "text": [
      "DONE\n"
     ]
    }
   ],
   "source": [
    "#Not Normalized Version\n",
    "firstPokeNumberArray = []\n",
    "firstPokeType1 = []\n",
    "firstPokeType2 = []\n",
    "firstPokeHP = []\n",
    "firstPokeAttack = []\n",
    "firstPokeDefense = []\n",
    "firstPokeSpAtk = []\n",
    "firstPokeSpDef = []\n",
    "firstPokeSpeed = []\n",
    "firstPokeGeneration = []\n",
    "firstPokeLegendary = []\n",
    "\n",
    "for pokemon in battleData[\"First_pokemon\"]:\n",
    "    pokemon = data.loc[[pokemon-1]]\n",
    "    firstPokeNumberArray.append(float(pokemon['#']))\n",
    "    firstPokeType1.append(float(pokemon['Type 1']))\n",
    "    firstPokeType2.append(float(pokemon['Type 2']))\n",
    "    firstPokeHP.append(float(pokemon['HP']) / max(data['HP']))\n",
    "    firstPokeAttack.append(float(pokemon['Attack']))\n",
    "    firstPokeDefense.append(float(pokemon['Defense']))\n",
    "    firstPokeSpAtk.append(float(pokemon['Sp. Atk']))\n",
    "    firstPokeSpDef.append(float(pokemon['Sp. Def']))\n",
    "    firstPokeSpeed.append(float(pokemon['Speed']))\n",
    "    firstPokeGeneration.append(float(pokemon['Generation']))\n",
    "    firstPokeLegendary.append(float(pokemon['Legendary']))\n",
    "                       \n",
    "secondPokeNumberArray = []\n",
    "secondPokeType1 = []\n",
    "secondPokeType2 = []\n",
    "secondPokeHP = []\n",
    "secondPokeAttack = []\n",
    "secondPokeDefense = []\n",
    "secondPokeSpAtk = []\n",
    "secondPokeSpDef = []\n",
    "secondPokeSpeed = []\n",
    "secondPokeGeneration = []\n",
    "secondPokeLegendary = []\n",
    "for pokemon in battleData[\"Second_pokemon\"]:\n",
    "    pokemon = data.loc[[pokemon-1]]\n",
    "    secondPokeNumberArray.append(float(pokemon['#']))\n",
    "    secondPokeType1.append(float(pokemon['Type 1']))\n",
    "    secondPokeType2.append(float(pokemon['Type 2']))\n",
    "    secondPokeHP.append(float(pokemon['HP']))\n",
    "    secondPokeAttack.append(float(pokemon['Attack']))\n",
    "    secondPokeDefense.append(float(pokemon['Defense']))\n",
    "    secondPokeSpAtk.append(float(pokemon['Sp. Atk']))\n",
    "    secondPokeSpDef.append(float(pokemon['Sp. Def']))\n",
    "    secondPokeSpeed.append(float(pokemon['Speed']))\n",
    "    secondPokeGeneration.append(float(pokemon['Generation']))\n",
    "    secondPokeLegendary.append(float(pokemon['Legendary']))\n",
    "                       \n",
    "columnName = \"1#\"\n",
    "battleData[columnName] = firstPokeNumberArray\n",
    "columnName = \"2#\"\n",
    "battleData[columnName] = secondPokeNumberArray\n",
    "columnName = \"1Type1\"\n",
    "battleData[columnName] = firstPokeType1\n",
    "columnName = \"2Type1\"\n",
    "battleData[columnName] = secondPokeType1\n",
    "columnName = \"1Type2\"\n",
    "battleData[columnName] = firstPokeType2\n",
    "columnName = \"2Type2\"\n",
    "battleData[columnName] = secondPokeType2\n",
    "columnName = \"1HP\"\n",
    "battleData[columnName] = firstPokeHP\n",
    "columnName = \"2HP\"\n",
    "battleData[columnName] = secondPokeHP\n",
    "columnName = \"1Attack\"\n",
    "battleData[columnName] = firstPokeAttack\n",
    "columnName = \"2Attack\"\n",
    "battleData[columnName] = secondPokeAttack\n",
    "columnName = \"1Defense\"\n",
    "battleData[columnName] = firstPokeDefense\n",
    "columnName = \"2Defense\"\n",
    "battleData[columnName] = secondPokeDefense\n",
    "columnName = \"1SpAtk\"\n",
    "battleData[columnName] = firstPokeSpAtk\n",
    "columnName = \"2SpAtk\"\n",
    "battleData[columnName] = secondPokeSpAtk\n",
    "columnName = \"1SpDef\"\n",
    "battleData[columnName] = firstPokeSpDef\n",
    "columnName = \"2SpDef\"\n",
    "battleData[columnName] = secondPokeSpDef\n",
    "columnName = \"1Speed\"\n",
    "battleData[columnName] = firstPokeSpeed\n",
    "columnName = \"2Speed\"\n",
    "battleData[columnName] = secondPokeSpeed\n",
    "columnName = \"1Generation\"\n",
    "battleData[columnName] = firstPokeGeneration\n",
    "columnName = \"2Generation\"\n",
    "battleData[columnName] = secondPokeGeneration\n",
    "columnName = \"1Legendary\"\n",
    "battleData[columnName] = firstPokeLegendary\n",
    "columnName = \"2Legendary\"\n",
    "battleData[columnName] = secondPokeLegendary\n",
    "del battleData['First_pokemon']\n",
    "del battleData['Second_pokemon']\n",
    "\n",
    "newWinnerArray = []\n",
    "for pokemon in battleData['Winner']:\n",
    "    pokemon = data.loc[[pokemon-1]]\n",
    "    newWinnerArray.append(float(pokemon['#']))\n",
    "columnName = \"Winner\"\n",
    "battleData[columnName] = newWinnerArray\n",
    "battleData = battleData.astype('float32')\n",
    "print(\"DONE\")"
   ]
  },
  {
   "cell_type": "code",
   "execution_count": 332,
   "metadata": {},
   "outputs": [
    {
     "name": "stdout",
     "output_type": "stream",
     "text": [
      "   Winner     1#     2#  1Type1  2Type1  1Type2  2Type2       1HP   2HP  \\\n",
      "0   298.0  266.0  298.0    11.0     0.0     4.0    12.0  0.196078  70.0   \n",
      "\n",
      "   1Attack     ...      1SpAtk  2SpAtk  1SpDef  2SpDef  1Speed  2Speed  \\\n",
      "0     64.0     ...        45.0    60.0    50.0    40.0    41.0    60.0   \n",
      "\n",
      "   1Generation  2Generation  1Legendary  2Legendary  \n",
      "0          2.0          3.0         0.0         0.0  \n",
      "\n",
      "[1 rows x 23 columns]\n"
     ]
    }
   ],
   "source": [
    "print(battleData.head(1))"
   ]
  },
  {
   "cell_type": "code",
   "execution_count": 308,
   "metadata": {},
   "outputs": [
    {
     "name": "stdout",
     "output_type": "stream",
     "text": [
      "   Winner     1#     2#  1Type1  2Type1  1Type2  2Type2       1HP   2HP  \\\n",
      "0   298.0  266.0  298.0    11.0     0.0     4.0    12.0  0.196078  70.0   \n",
      "\n",
      "   1Attack     ...      1SpAtk  2SpAtk  1SpDef  2SpDef  1Speed  2Speed  \\\n",
      "0     64.0     ...        45.0    60.0    50.0    40.0    41.0    60.0   \n",
      "\n",
      "   1Generation  2Generation  1Legendary  2Legendary  \n",
      "0          2.0          3.0         0.0         0.0  \n",
      "\n",
      "[1 rows x 23 columns]\n",
      "<class 'pandas.core.series.Series'>\n",
      "       Winner     1#     2#  1Type1  2Type1  1Type2  2Type2       1HP   2HP  \\\n",
      "15935   410.0  293.0  410.0     3.0    14.0     0.0     2.0  0.235294  95.0   \n",
      "\n",
      "       1Attack     ...      1SpAtk  2SpAtk  1SpDef  2SpDef  1Speed  2Speed  \\\n",
      "15935     50.0     ...        50.0   120.0    90.0    90.0    65.0   120.0   \n",
      "\n",
      "       1Generation  2Generation  1Legendary  2Legendary  \n",
      "15935          3.0          3.0         0.0         0.0  \n",
      "\n",
      "[1 rows x 23 columns]\n",
      "20194\n",
      "29806\n"
     ]
    }
   ],
   "source": [
    "print(type(battleData.loc[[1]]['1#']))\n",
    "shuffledBattleData = battleData.sample(frac=1)\n",
    "print(shuffledBattleData.head(1))\n",
    "\n",
    "msk = np.random.rand(len(shuffledBattleData)) < 0.6\n",
    "\n",
    "test = shuffledBattleData[msk]\n",
    "\n",
    "train = shuffledBattleData[~msk]\n",
    "\n",
    "print(len(train))\n",
    "print(len(test))\n",
    "# print(battleData.columns)\n",
    "import tensorflow as tf\n",
    "from tensorflow import keras"
   ]
  },
  {
   "cell_type": "code",
   "execution_count": 325,
   "metadata": {},
   "outputs": [
    {
     "name": "stdout",
     "output_type": "stream",
     "text": [
      "['1#', '2#', '1Type1', '2Type1', '1Type2', '2Type2', '1HP', '2HP', '1Attack', '2Attack', '1Defense', '2Defense', '1SpAtk', '2SpAtk', '1SpDef', '2SpDef', '1Speed', '2Speed', '1Generation', '2Generation', '1Legendary', '2Legendary']\n",
      "Epoch 1/20\n",
      "20194/20194 [==============================] - 5s 231us/sample - loss: 6.2967 - acc: 0.0067\n",
      "Epoch 2/20\n",
      "20194/20194 [==============================] - 4s 185us/sample - loss: 5.4043 - acc: 0.0258\n",
      "Epoch 3/20\n",
      "20194/20194 [==============================] - 4s 189us/sample - loss: 4.6785 - acc: 0.0706\n",
      "Epoch 4/20\n",
      "20194/20194 [==============================] - 4s 198us/sample - loss: 3.9376 - acc: 0.1503\n",
      "Epoch 5/20\n",
      "20194/20194 [==============================] - 5s 224us/sample - loss: 3.3811 - acc: 0.2279\n",
      "Epoch 6/20\n",
      "20194/20194 [==============================] - 4s 210us/sample - loss: 2.9806 - acc: 0.3037\n",
      "Epoch 7/20\n",
      "20194/20194 [==============================] - 4s 183us/sample - loss: 2.6630 - acc: 0.3666\n",
      "Epoch 8/20\n",
      "20194/20194 [==============================] - 4s 192us/sample - loss: 2.4339 - acc: 0.4137\n",
      "Epoch 9/20\n",
      "20194/20194 [==============================] - 4s 188us/sample - loss: 2.2100 - acc: 0.4674\n",
      "Epoch 10/20\n",
      "20194/20194 [==============================] - 4s 201us/sample - loss: 2.0391 - acc: 0.5078\n",
      "Epoch 11/20\n",
      "20194/20194 [==============================] - 5s 239us/sample - loss: 1.8942 - acc: 0.5425\n",
      "Epoch 12/20\n",
      "20194/20194 [==============================] - 4s 208us/sample - loss: 1.7868 - acc: 0.5704\n",
      "Epoch 13/20\n",
      "20194/20194 [==============================] - 4s 204us/sample - loss: 1.7174 - acc: 0.5878\n",
      "Epoch 14/20\n",
      "20194/20194 [==============================] - 4s 201us/sample - loss: 1.8199 - acc: 0.5917\n",
      "Epoch 15/20\n",
      "20194/20194 [==============================] - 4s 199us/sample - loss: 1.5276 - acc: 0.6302\n",
      "Epoch 16/20\n",
      "20194/20194 [==============================] - 4s 203us/sample - loss: 1.5158 - acc: 0.6419\n",
      "Epoch 17/20\n",
      "20194/20194 [==============================] - 4s 201us/sample - loss: 1.4095 - acc: 0.6656\n",
      "Epoch 18/20\n",
      "20194/20194 [==============================] - 4s 213us/sample - loss: 1.3649 - acc: 0.6730\n",
      "Epoch 19/20\n",
      "20194/20194 [==============================] - 4s 208us/sample - loss: 1.3414 - acc: 0.6840\n",
      "Epoch 20/20\n",
      "20194/20194 [==============================] - 4s 202us/sample - loss: 1.3009 - acc: 0.6927\n"
     ]
    },
    {
     "data": {
      "text/plain": [
       "<tensorflow.python.keras.callbacks.History at 0x150cbcf98>"
      ]
     },
     "execution_count": 325,
     "metadata": {},
     "output_type": "execute_result"
    }
   ],
   "source": [
    "model = keras.Sequential([\n",
    "    keras.layers.Flatten(input_shape=(22,)),\n",
    "    keras.layers.Dense(44, activation=tf.nn.relu),\n",
    "    keras.layers.Dense(44, activation=tf.nn.relu),\n",
    "    keras.layers.Dense(44, activation=tf.nn.relu),\n",
    "    keras.layers.Dense(44, activation=tf.nn.relu),\n",
    "    keras.layers.Dense(44, activation=tf.nn.relu),\n",
    "    keras.layers.Dense(44, activation=tf.nn.relu),\n",
    "    keras.layers.Dense(801, activation=tf.nn.softmax)\n",
    "])\n",
    "model.compile(optimizer='adam', \n",
    "              loss='sparse_categorical_crossentropy',\n",
    "              metrics=['accuracy'])\n",
    "indices = []\n",
    "for i in range(1, 23):\n",
    "    indices.append(i)\n",
    "features=list(train.columns[indices])\n",
    "print(features)\n",
    "model.fit(train[features], train['Winner'], epochs=20)"
   ]
  },
  {
   "cell_type": "code",
   "execution_count": 274,
   "metadata": {},
   "outputs": [],
   "source": [
    "test_loss, test_acc = model.evaluate(test[features], test['Winner'])\n",
    "\n",
    "print('Test accuracy:', test_acc)"
   ]
  },
  {
   "cell_type": "code",
   "execution_count": 274,
   "metadata": {},
   "outputs": [
    {
     "name": "stdout",
     "output_type": "stream",
     "text": [
      "DONE\n"
     ]
    }
   ],
   "source": [
    "#Normalized Version\n",
    "firstPokeNumberArray = []\n",
    "firstPokeType1 = []\n",
    "firstPokeType2 = []\n",
    "firstPokeHP = []\n",
    "firstPokeAttack = []\n",
    "firstPokeDefense = []\n",
    "firstPokeSpAtk = []\n",
    "firstPokeSpDef = []\n",
    "firstPokeSpeed = []\n",
    "firstPokeGeneration = []\n",
    "firstPokeLegendary = []\n",
    "\n",
    "for pokemon in battleData[\"First_pokemon\"]:\n",
    "    pokemon = data.loc[[pokemon-1]]\n",
    "    firstPokeNumberArray.append(float(pokemon['#']) / max(data['#']))\n",
    "    firstPokeType1.append(float(pokemon['Type 1']) / max(data['Type 1']))\n",
    "    firstPokeType2.append(float(pokemon['Type 2']) / max(data['Type 2']))\n",
    "    firstPokeHP.append(float(pokemon['HP']) / max(data['HP']))\n",
    "    firstPokeAttack.append(float(pokemon['Attack']) / max(data['Attack']))\n",
    "    firstPokeDefense.append(float(pokemon['Defense']) / max(data['Defense']))\n",
    "    firstPokeSpAtk.append(float(pokemon['Sp. Atk']) / max(data['Sp. Atk']))\n",
    "    firstPokeSpDef.append(float(pokemon['Sp. Def']) / max(data['Sp. Def']))\n",
    "    firstPokeSpeed.append(float(pokemon['Speed']) / max(data['Speed']))\n",
    "    firstPokeGeneration.append(float(pokemon['Generation']) / max(data['Generation']))\n",
    "    firstPokeLegendary.append(float(pokemon['Legendary']) / max(data['Legendary']))\n",
    "                       \n",
    "secondPokeNumberArray = []\n",
    "secondPokeType1 = []\n",
    "secondPokeType2 = []\n",
    "secondPokeHP = []\n",
    "secondPokeAttack = []\n",
    "secondPokeDefense = []\n",
    "secondPokeSpAtk = []\n",
    "secondPokeSpDef = []\n",
    "secondPokeSpeed = []\n",
    "secondPokeGeneration = []\n",
    "secondPokeLegendary = []\n",
    "for pokemon in battleData[\"Second_pokemon\"]:\n",
    "    pokemon = data.loc[[pokemon-1]]\n",
    "    secondPokeNumberArray.append(float(pokemon['#']) / max(data['#']))\n",
    "    secondPokeType1.append(float(pokemon['Type 1']) / max(data['Type 1']))\n",
    "    secondPokeType2.append(float(pokemon['Type 2']) / max(data['Type 2']))\n",
    "    secondPokeHP.append(float(pokemon['HP']) / max(data['HP']))\n",
    "    secondPokeAttack.append(float(pokemon['Attack']) / max(data['Attack']))\n",
    "    secondPokeDefense.append(float(pokemon['Defense']) / max(data['Defense']))\n",
    "    secondPokeSpAtk.append(float(pokemon['Sp. Atk']) / max(data['Sp. Atk']))\n",
    "    secondPokeSpDef.append(float(pokemon['Sp. Def']) / max(data['Sp. Def']))\n",
    "    secondPokeSpeed.append(float(pokemon['Speed']) / max(data['Speed']))\n",
    "    secondPokeGeneration.append(float(pokemon['Generation']) / max(data['Generation']))\n",
    "    secondPokeLegendary.append(float(pokemon['Legendary']) / max(data['Legendary']))\n",
    "                       \n",
    "columnName = \"1#\"\n",
    "battleData[columnName] = firstPokeNumberArray\n",
    "columnName = \"2#\"\n",
    "battleData[columnName] = secondPokeNumberArray\n",
    "columnName = \"1Type1\"\n",
    "battleData[columnName] = firstPokeType1\n",
    "columnName = \"2Type1\"\n",
    "battleData[columnName] = secondPokeType1\n",
    "columnName = \"1Type2\"\n",
    "battleData[columnName] = firstPokeType2\n",
    "columnName = \"2Type2\"\n",
    "battleData[columnName] = secondPokeType2\n",
    "columnName = \"1HP\"\n",
    "battleData[columnName] = firstPokeHP\n",
    "columnName = \"2HP\"\n",
    "battleData[columnName] = secondPokeHP\n",
    "columnName = \"1Attack\"\n",
    "battleData[columnName] = firstPokeAttack\n",
    "columnName = \"2Attack\"\n",
    "battleData[columnName] = secondPokeAttack\n",
    "columnName = \"1Defense\"\n",
    "battleData[columnName] = firstPokeDefense\n",
    "columnName = \"2Defense\"\n",
    "battleData[columnName] = secondPokeDefense\n",
    "columnName = \"1SpAtk\"\n",
    "battleData[columnName] = firstPokeSpAtk\n",
    "columnName = \"2SpAtk\"\n",
    "battleData[columnName] = secondPokeSpAtk\n",
    "columnName = \"1SpDef\"\n",
    "battleData[columnName] = firstPokeSpDef\n",
    "columnName = \"2SpDef\"\n",
    "battleData[columnName] = secondPokeSpDef\n",
    "columnName = \"1Speed\"\n",
    "battleData[columnName] = firstPokeSpeed\n",
    "columnName = \"2Speed\"\n",
    "battleData[columnName] = secondPokeSpeed\n",
    "columnName = \"1Generation\"\n",
    "battleData[columnName] = firstPokeGeneration\n",
    "columnName = \"2Generation\"\n",
    "battleData[columnName] = secondPokeGeneration\n",
    "columnName = \"1Legendary\"\n",
    "battleData[columnName] = firstPokeLegendary\n",
    "columnName = \"2Legendary\"\n",
    "battleData[columnName] = secondPokeLegendary\n",
    "del battleData['First_pokemon']\n",
    "del battleData['Second_pokemon']\n",
    "\n",
    "newWinnerArray = []\n",
    "for pokemon in battleData['Winner']:\n",
    "    pokemon = data.loc[[pokemon-1]]\n",
    "    newWinnerArray.append(float(pokemon['#']) \n",
    "                          / max(battleData[\"Winner\"]))\n",
    "columnName = \"Winner\"\n",
    "battleData[columnName] = newWinnerArray\n",
    "battleData = battleData.astype('float32')\n",
    "print(\"DONE\")"
   ]
  },
  {
   "cell_type": "code",
   "execution_count": 235,
   "metadata": {},
   "outputs": [
    {
     "name": "stdout",
     "output_type": "stream",
     "text": [
      "   Winner      1#      2#    1Type1  2Type1    1Type2    2Type2       1HP  \\\n",
      "0  0.3725  0.3325  0.3725  0.647059     0.0  0.222222  0.666667  0.196078   \n",
      "\n",
      "       2HP   1Attack     ...        1SpAtk    2SpAtk    1SpDef    2SpDef  \\\n",
      "0  0.27451  0.336842     ...      0.231959  0.309278  0.217391  0.173913   \n",
      "\n",
      "     1Speed    2Speed  1Generation  2Generation  1Legendary  2Legendary  \n",
      "0  0.227778  0.333333     0.333333          0.5         0.0         0.0  \n",
      "\n",
      "[1 rows x 23 columns]\n",
      "<class 'pandas.core.series.Series'>\n",
      "       Winner     1#     2#    1Type1    2Type1    1Type2    2Type2       1HP  \\\n",
      "42401   0.895  0.945  0.895  0.470588  0.235294  0.055556  0.444444  0.321569   \n",
      "\n",
      "            2HP   1Attack     ...        1SpAtk    2SpAtk    1SpDef    2SpDef  \\\n",
      "42401  0.392157  0.421053     ...      0.438144  0.659794  0.326087  0.556522   \n",
      "\n",
      "       1Speed  2Speed  1Generation  2Generation  1Legendary  2Legendary  \n",
      "42401     0.4     0.5          1.0     0.833333         0.0         0.0  \n",
      "\n",
      "[1 rows x 23 columns]\n",
      "5030\n",
      "44970\n"
     ]
    }
   ],
   "source": [
    "print(battleData.head(1))\n",
    "print(type(battleData.loc[[1]]['1#']))\n",
    "shuffledBattleData = battleData.sample(frac=1)\n",
    "print(shuffledBattleData.head(1))\n",
    "\n",
    "msk = np.random.rand(len(shuffledBattleData)) < 0.9\n",
    "\n",
    "test = shuffledBattleData[msk]\n",
    "\n",
    "train = shuffledBattleData[~msk]\n",
    "\n",
    "print(len(train))\n",
    "print(len(test))\n",
    "# print(battleData.columns)"
   ]
  },
  {
   "cell_type": "code",
   "execution_count": 239,
   "metadata": {},
   "outputs": [
    {
     "name": "stdout",
     "output_type": "stream",
     "text": [
      "['1#', '2#', '1Type1', '2Type1', '1Type2', '2Type2', '1HP', '2HP', '1Attack', '2Attack', '1Defense', '2Defense', '1SpAtk', '2SpAtk', '1SpDef', '2SpDef', '1Speed', '2Speed', '1Generation', '2Generation', '1Legendary', '2Legendary']\n",
      "Epoch 1/2\n",
      "5030/5030 [==============================] - 1s 227us/sample - loss: 3.8332 - acc: 0.8634\n",
      "Epoch 2/2\n",
      "5030/5030 [==============================] - 1s 137us/sample - loss: 0.0611 - acc: 0.9986\n"
     ]
    },
    {
     "data": {
      "text/plain": [
       "<tensorflow.python.keras.callbacks.History at 0x12f7b70f0>"
      ]
     },
     "execution_count": 239,
     "metadata": {},
     "output_type": "execute_result"
    }
   ],
   "source": [
    "model = keras.Sequential([\n",
    "    keras.layers.Flatten(input_shape=(22,)),\n",
    "    keras.layers.Dense(22, activation=tf.nn.relu),\n",
    "    keras.layers.Dense(801, activation=tf.nn.softmax)\n",
    "])\n",
    "model.compile(optimizer='adam', \n",
    "              loss='sparse_categorical_crossentropy',\n",
    "              metrics=['accuracy'])\n",
    "indices = []\n",
    "for i in range(1, 23):\n",
    "    indices.append(i)\n",
    "features=list(train.columns[indices])\n",
    "print(features)\n",
    "model.fit(train[features], train['Winner'], epochs=2)"
   ]
  },
  {
   "cell_type": "code",
   "execution_count": 234,
   "metadata": {},
   "outputs": [
    {
     "name": "stdout",
     "output_type": "stream",
     "text": [
      "49553/49553 [==============================] - 5s 94us/sample - loss: 6.1254 - acc: 0.9985\n",
      "Test accuracy: 0.99848646\n"
     ]
    }
   ],
   "source": [
    "test_loss, test_acc = model.evaluate(test[features], test['Winner'])\n",
    "\n",
    "print('Test accuracy:', test_acc)"
   ]
  },
  {
   "cell_type": "code",
   "execution_count": null,
   "metadata": {},
   "outputs": [],
   "source": []
  }
 ],
 "metadata": {
  "kernelspec": {
   "display_name": "Python 3",
   "language": "python",
   "name": "python3"
  },
  "language_info": {
   "codemirror_mode": {
    "name": "ipython",
    "version": 3
   },
   "file_extension": ".py",
   "mimetype": "text/x-python",
   "name": "python",
   "nbconvert_exporter": "python",
   "pygments_lexer": "ipython3",
   "version": "3.7.0"
  }
 },
 "nbformat": 4,
 "nbformat_minor": 2
}
